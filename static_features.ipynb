{
 "cells": [
  {
   "cell_type": "code",
   "execution_count": 1,
   "metadata": {},
   "outputs": [],
   "source": [
    "# Import libraries\n",
    "import numpy as np\n",
    "import pandas as pd\n",
    "import psycopg2\n",
    "import getpass\n",
    "import time\n",
    "import os.path\n",
    "import matplotlib.pyplot as plt\n",
    "%matplotlib inline"
   ]
  },
  {
   "cell_type": "code",
   "execution_count": 2,
   "metadata": {},
   "outputs": [
    {
     "name": "stdin",
     "output_type": "stream",
     "text": [
      "Password: ··········\n"
     ]
    }
   ],
   "source": [
    "# Load the database connection details\n",
    "_data = np.load('data/db_details.npy', allow_pickle=True).tolist()\n",
    "db_details = _data['db_details']\n",
    "user = db_details['user']\n",
    "host = db_details['host']\n",
    "port = db_details['port']\n",
    "dbname = db_details['dbname']\n",
    "schema = db_details['schema']\n",
    "    \n",
    "# Connect to the database\n",
    "conn = psycopg2.connect(dbname=dbname, user=user, host=host, port=port, password=getpass.getpass(prompt='Password:'.format(user)))\n",
    "cur = conn.cursor()\n",
    "cur.execute('SET search_path TO {}'.format(schema))\n",
    "conn.commit()"
   ]
  },
  {
   "cell_type": "code",
   "execution_count": 3,
   "metadata": {},
   "outputs": [
    {
     "name": "stdout",
     "output_type": "stream",
     "text": [
      "Loaded the SQL queries...\n",
      "... and the patient data!\n"
     ]
    }
   ],
   "source": [
    "# Load the SQL queries\n",
    "_data = np.load('data/static_queries.npy', allow_pickle=True).tolist()\n",
    "SQL_queries = _data['static_queries']\n",
    "print(\"Loaded the SQL queries...\")\n",
    "\n",
    "# Load the patient data\n",
    "_data = np.load('data/patients.npy', allow_pickle=True).tolist()\n",
    "patients = _data['patients']\n",
    "print(\"... and the patient data!\")"
   ]
  },
  {
   "cell_type": "code",
   "execution_count": 4,
   "metadata": {},
   "outputs": [],
   "source": [
    "# Function to query the database for a specific feature\n",
    "def get_feature(feature_name, column_names):\n",
    "    \n",
    "    '''\n",
    "    Queries the MIMIC-III database for the specified feature.\n",
    "    SQL_queries is a dictionary with feature names as keys, and the corresponding SQL queries as values.\n",
    "    '''\n",
    "    \n",
    "    start = time.time()\n",
    "\n",
    "    # Query the database\n",
    "    query = SQL_queries[feature_name]\n",
    "\n",
    "    # Execute the query and fetch the result\n",
    "    cur.execute(query)\n",
    "    conn.commit()\n",
    "    data = cur.fetchall()\n",
    "\n",
    "    # Store the result of the query as a pandas dataframe\n",
    "    result = pd.DataFrame(data, columns=column_names)\n",
    "\n",
    "    end = time.time()\n",
    "    \n",
    "    # Print run time\n",
    "    print(\"The '{}' query took {} seconds\".format(feature_name, round((end-start),2)))\n",
    "    \n",
    "    # Return the feature\n",
    "    return result"
   ]
  },
  {
   "cell_type": "code",
   "execution_count": 5,
   "metadata": {},
   "outputs": [],
   "source": [
    "# Function that creates a list of numpy arrays with all measurements for each patient sorted by time\n",
    "def collect_all_measurements(feature, patients):\n",
    "    '''\n",
    "    Creates a numpy array, where each row is an admission and each column is a binary variable (either admission type or aids/haem/mets).\n",
    "    feature is a pandas DataFrame representing some feature queried from the MIMIC-III database\n",
    "    patients is a pandas DataFrame that has been previously loaded, containing patient details for patients of interest\n",
    "    '''\n",
    "    \n",
    "    start = time.time()\n",
    "    \n",
    "    # Extract hospital admission ID\n",
    "    m = len(patients) # number of patients\n",
    "    hadm_id = patients['hadm_id']\n",
    "    \n",
    "    # Create an empty array in which to store the data\n",
    "    results = np.zeros((m,3))\n",
    "    \n",
    "    # Iterate over every patient\n",
    "    for i in range(m):\n",
    "    \n",
    "        # Define subject ID\n",
    "        h_id = int(hadm_id[i])\n",
    "    \n",
    "        # Select data for this subject\n",
    "        measurements = feature[feature['hadm_id']==h_id]\n",
    "        \n",
    "        # Convert to a numpy array\n",
    "        res = np.sum(np.array(measurements.iloc[:,-3:]), axis=0) # some admissions are defined as both medical and surgical\n",
    "        \n",
    "        # Append this subjects' array to the results list (after casting to a numpy array)\n",
    "        results[i,:] = res\n",
    "        \n",
    "    end = time.time()\n",
    "    \n",
    "    # Print run time\n",
    "    print(\"It took {} seconds to collect all the measurements for each patient\".format(round((end-start),2)))\n",
    "        \n",
    "    # Return the results\n",
    "    return results"
   ]
  },
  {
   "cell_type": "code",
   "execution_count": 6,
   "metadata": {},
   "outputs": [
    {
     "name": "stdout",
     "output_type": "stream",
     "text": [
      "The 'admission_type' query took 0.41 seconds\n",
      "It took 19.49 seconds to collect all the measurements for each patient\n",
      "\n",
      "The 'aids_haem_mets' query took 1.77 seconds\n",
      "It took 19.51 seconds to collect all the measurements for each patient\n",
      "\n"
     ]
    }
   ],
   "source": [
    "# Define column names for the two features\n",
    "column_names = {\n",
    "    'admission_type': [\"hadm_id\", \"firstadmitflag\", \"scheduledsurgical\", \"unscheduledsurgical\", \"medical\"], \n",
    "    'aids_haem_mets': [\"hadm_id\", \"aids\", \"haem\", \"mets\"]\n",
    "}\n",
    "\n",
    "# Iterate over every feature\n",
    "for i in SQL_queries:\n",
    "    \n",
    "    # Define a pre-cursor variable name\n",
    "    precursor = '_' + i\n",
    "    \n",
    "    # Query the database for the feature\n",
    "    exec(precursor + \" = get_feature('{}', {})\".format(i, column_names[i]))\n",
    "    \n",
    "    # Collect measurements for every patien\n",
    "    exec(i + \" = collect_all_measurements({}, patients)\".format(precursor))\n",
    "    \n",
    "    # Print a separator between features\n",
    "    print('')"
   ]
  },
  {
   "cell_type": "code",
   "execution_count": 7,
   "metadata": {},
   "outputs": [
    {
     "data": {
      "image/png": "[encoded data removed]",
      "text/plain": [
       "<Figure size 1080x432 with 2 Axes>"
      ]
     },
     "metadata": {
      "needs_background": "light"
     },
     "output_type": "display_data"
    }
   ],
   "source": [
    "# Visualise the data\n",
    "fig, axs = plt.subplots(1, 2, figsize=(15,6))\n",
    "fig.suptitle('Static Features', weight='semibold', fontsize=14)\n",
    "\n",
    "# Plot the admission type\n",
    "axs[0].bar(x=['Unscheduled surgical', 'Scheduled surgical', 'Medical'], height=np.sum(admission_type, axis=0))\n",
    "axs[0].set_title('Admission Type', style='italic')\n",
    "axs[0].set_ylabel('No. of patients')\n",
    "\n",
    "# Plot the AIDS/haem/mets status\n",
    "axs[1].bar(x=['AIDS', 'Haematologic malignancy', 'Metastatic cancer'], height=np.sum(aids_haem_mets, axis=0))\n",
    "axs[1].set_title('Existing Conditions', style='italic')\n",
    "axs[1].set_ylabel('No. of patients');"
   ]
  },
  {
   "cell_type": "code",
   "execution_count": 8,
   "metadata": {},
   "outputs": [
    {
     "name": "stdout",
     "output_type": "stream",
     "text": [
      "Saved!\n"
     ]
    }
   ],
   "source": [
    "# Save to static_features.npy\n",
    "if not os.path.exists('./data'):\n",
    "    os.makedirs('./data')\n",
    "\n",
    "tosave = {\n",
    "    '_admission_type': _admission_type, 'admission_type': admission_type,\n",
    "    '_aids_haem_mets': _aids_haem_mets, 'aids_haem_mets': aids_haem_mets,\n",
    "}\n",
    "np.save('data/static_features.npy',tosave)\n",
    "print(\"Saved!\")"
   ]
  },
  {
   "cell_type": "code",
   "execution_count": null,
   "metadata": {},
   "outputs": [],
   "source": []
  }
 ],
 "metadata": {
  "kernelspec": {
   "display_name": "Python 3",
   "language": "python",
   "name": "python3"
  },
  "language_info": {
   "codemirror_mode": {
    "name": "ipython",
    "version": 3
   },
   "file_extension": ".py",
   "mimetype": "text/x-python",
   "name": "python",
   "nbconvert_exporter": "python",
   "pygments_lexer": "ipython3",
   "version": "3.7.3"
  }
 },
 "nbformat": 4,
 "nbformat_minor": 4
}
