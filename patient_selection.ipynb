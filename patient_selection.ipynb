{
 "cells": [
  {
   "cell_type": "code",
   "execution_count": 1,
   "metadata": {},
   "outputs": [],
   "source": [
    "# Import libraries\n",
    "import numpy as np\n",
    "import pandas as pd\n",
    "import psycopg2\n",
    "import getpass"
   ]
  },
  {
   "cell_type": "code",
   "execution_count": 2,
   "metadata": {},
   "outputs": [
    {
     "name": "stdin",
     "output_type": "stream",
     "text": [
      "Password: ··········\n"
     ]
    }
   ],
   "source": [
    "# Load the database connection details\n",
    "_data = np.load('data/db_details.npy', allow_pickle=True).tolist()\n",
    "db_details = _data['db_details']\n",
    "user = db_details['user']\n",
    "host = db_details['host']\n",
    "port = db_details['port']\n",
    "dbname = db_details['dbname']\n",
    "schema = db_details['schema']\n",
    "    \n",
    "# Connect to the database\n",
    "conn = psycopg2.connect(dbname=dbname, user=user, host=host, port=port, password=getpass.getpass(prompt='Password:'.format(user)))\n",
    "cur = conn.cursor()\n",
    "cur.execute('SET search_path TO {}'.format(schema))\n",
    "conn.commit()"
   ]
  },
  {
   "cell_type": "code",
   "execution_count": 3,
   "metadata": {},
   "outputs": [],
   "source": [
    "# Select data for all ICU admissions\n",
    "query = \\\n",
    "\"\"\"\n",
    "SELECT\n",
    "    i.subject_id,\n",
    "    i.hadm_id,\n",
    "    i.icustay_id,\n",
    "    p.gender,\n",
    "    p.dob,\n",
    "    ROUND((CAST(i.intime AS date) - CAST(p.dob AS date))/365.242,2) AS age,\n",
    "    i.intime,\n",
    "    i.outtime,\n",
    "    i.los,\n",
    "    CASE\n",
    "        WHEN p.dod_hosp IS NULL THEN 0\n",
    "        ELSE 1\n",
    "    END hosp_expire_flag\n",
    "FROM icustays i INNER JOIN patients p\n",
    "ON i.subject_id = p.subject_id\n",
    "\"\"\"\n",
    "\n",
    "# Execute the query and fetch the result\n",
    "cur = conn.cursor()\n",
    "cur.execute(query)\n",
    "conn.commit()\n",
    "data = cur.fetchall()\n",
    "\n",
    "# Store the result of the query as a pandas dataframe\n",
    "labels = ['subject_id', 'hadm_id', 'icustay_id', 'gender', 'dob', 'age', 'intime', 'outtime', 'los', 'hosp_expire_flag']\n",
    "icu = pd.DataFrame(data, columns=labels)"
   ]
  },
  {
   "cell_type": "code",
   "execution_count": 4,
   "metadata": {},
   "outputs": [
    {
     "data": {
      "text/html": [
       "<div>\n",
       "<style scoped>\n",
       "    .dataframe tbody tr th:only-of-type {\n",
       "        vertical-align: middle;\n",
       "    }\n",
       "\n",
       "    .dataframe tbody tr th {\n",
       "        vertical-align: top;\n",
       "    }\n",
       "\n",
       "    .dataframe thead th {\n",
       "        text-align: right;\n",
       "    }\n",
       "</style>\n",
       "<table border=\"1\" class=\"dataframe\">\n",
       "  <thead>\n",
       "    <tr style=\"text-align: right;\">\n",
       "      <th></th>\n",
       "      <th>subject_id</th>\n",
       "      <th>hadm_id</th>\n",
       "      <th>icustay_id</th>\n",
       "      <th>gender</th>\n",
       "      <th>dob</th>\n",
       "      <th>age</th>\n",
       "      <th>intime</th>\n",
       "      <th>outtime</th>\n",
       "      <th>los</th>\n",
       "      <th>hosp_expire_flag</th>\n",
       "    </tr>\n",
       "  </thead>\n",
       "  <tbody>\n",
       "    <tr>\n",
       "      <th>0</th>\n",
       "      <td>268</td>\n",
       "      <td>110404</td>\n",
       "      <td>280836</td>\n",
       "      <td>F</td>\n",
       "      <td>2132-02-21</td>\n",
       "      <td>65.98</td>\n",
       "      <td>2198-02-14 23:27:38</td>\n",
       "      <td>2198-02-18 05:26:11</td>\n",
       "      <td>3.2490</td>\n",
       "      <td>1</td>\n",
       "    </tr>\n",
       "    <tr>\n",
       "      <th>1</th>\n",
       "      <td>269</td>\n",
       "      <td>106296</td>\n",
       "      <td>206613</td>\n",
       "      <td>M</td>\n",
       "      <td>2130-09-30</td>\n",
       "      <td>40.10</td>\n",
       "      <td>2170-11-05 11:05:29</td>\n",
       "      <td>2170-11-08 17:46:57</td>\n",
       "      <td>3.2788</td>\n",
       "      <td>0</td>\n",
       "    </tr>\n",
       "    <tr>\n",
       "      <th>2</th>\n",
       "      <td>270</td>\n",
       "      <td>188028</td>\n",
       "      <td>220345</td>\n",
       "      <td>M</td>\n",
       "      <td>2048-05-26</td>\n",
       "      <td>80.08</td>\n",
       "      <td>2128-06-24 15:05:20</td>\n",
       "      <td>2128-06-27 12:32:29</td>\n",
       "      <td>2.8939</td>\n",
       "      <td>0</td>\n",
       "    </tr>\n",
       "    <tr>\n",
       "      <th>3</th>\n",
       "      <td>271</td>\n",
       "      <td>173727</td>\n",
       "      <td>249196</td>\n",
       "      <td>F</td>\n",
       "      <td>2074-11-30</td>\n",
       "      <td>45.68</td>\n",
       "      <td>2120-08-07 23:12:42</td>\n",
       "      <td>2120-08-10 00:39:04</td>\n",
       "      <td>2.0600</td>\n",
       "      <td>0</td>\n",
       "    </tr>\n",
       "    <tr>\n",
       "      <th>4</th>\n",
       "      <td>272</td>\n",
       "      <td>164716</td>\n",
       "      <td>210407</td>\n",
       "      <td>M</td>\n",
       "      <td>2119-11-21</td>\n",
       "      <td>67.10</td>\n",
       "      <td>2186-12-25 21:08:04</td>\n",
       "      <td>2186-12-27 12:01:13</td>\n",
       "      <td>1.6202</td>\n",
       "      <td>0</td>\n",
       "    </tr>\n",
       "  </tbody>\n",
       "</table>\n",
       "</div>"
      ],
      "text/plain": [
       "   subject_id  hadm_id  icustay_id gender        dob    age  \\\n",
       "0         268   110404      280836      F 2132-02-21  65.98   \n",
       "1         269   106296      206613      M 2130-09-30  40.10   \n",
       "2         270   188028      220345      M 2048-05-26  80.08   \n",
       "3         271   173727      249196      F 2074-11-30  45.68   \n",
       "4         272   164716      210407      M 2119-11-21  67.10   \n",
       "\n",
       "               intime             outtime     los  hosp_expire_flag  \n",
       "0 2198-02-14 23:27:38 2198-02-18 05:26:11  3.2490                 1  \n",
       "1 2170-11-05 11:05:29 2170-11-08 17:46:57  3.2788                 0  \n",
       "2 2128-06-24 15:05:20 2128-06-27 12:32:29  2.8939                 0  \n",
       "3 2120-08-07 23:12:42 2120-08-10 00:39:04  2.0600                 0  \n",
       "4 2186-12-25 21:08:04 2186-12-27 12:01:13  1.6202                 0  "
      ]
     },
     "execution_count": 4,
     "metadata": {},
     "output_type": "execute_result"
    }
   ],
   "source": [
    "icu.head()"
   ]
  },
  {
   "cell_type": "code",
   "execution_count": 5,
   "metadata": {},
   "outputs": [
    {
     "name": "stdout",
     "output_type": "stream",
     "text": [
      "subject_id: 46476\n",
      "hadm_id: 57786\n",
      "icustay_id: 61532\n"
     ]
    }
   ],
   "source": [
    "print('subject_id: {}'.format(len(np.unique(icu['subject_id']))))\n",
    "print('hadm_id: {}'.format(len(np.unique(icu['hadm_id']))))\n",
    "print('icustay_id: {}'.format(len(np.unique(icu['icustay_id']))))"
   ]
  },
  {
   "cell_type": "code",
   "execution_count": null,
   "metadata": {},
   "outputs": [],
   "source": []
  }
 ],
 "metadata": {
  "kernelspec": {
   "display_name": "Python 3",
   "language": "python",
   "name": "python3"
  },
  "language_info": {
   "codemirror_mode": {
    "name": "ipython",
    "version": 3
   },
   "file_extension": ".py",
   "mimetype": "text/x-python",
   "name": "python",
   "nbconvert_exporter": "python",
   "pygments_lexer": "ipython3",
   "version": "3.7.3"
  }
 },
 "nbformat": 4,
 "nbformat_minor": 4
}
