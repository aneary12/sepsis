{
 "cells": [
  {
   "cell_type": "code",
   "execution_count": 1,
   "metadata": {},
   "outputs": [],
   "source": [
    "# Import libraries\n",
    "import numpy as np\n",
    "import pandas as pd\n",
    "import psycopg2\n",
    "import getpass\n",
    "import os.path\n",
    "import matplotlib.pyplot as plt\n",
    "%matplotlib inline"
   ]
  },
  {
   "cell_type": "code",
   "execution_count": 2,
   "metadata": {},
   "outputs": [
    {
     "name": "stdin",
     "output_type": "stream",
     "text": [
      "Password: ··········\n"
     ]
    }
   ],
   "source": [
    "# Load the database connection details\n",
    "_data = np.load('data/db_details.npy', allow_pickle=True).tolist()\n",
    "db_details = _data['db_details']\n",
    "user = db_details['user']\n",
    "host = db_details['host']\n",
    "port = db_details['port']\n",
    "dbname = db_details['dbname']\n",
    "schema = db_details['schema']\n",
    "    \n",
    "# Connect to the database\n",
    "conn = psycopg2.connect(dbname=dbname, user=user, host=host, port=port, password=getpass.getpass(prompt='Password:'.format(user)))\n",
    "cur = conn.cursor()\n",
    "cur.execute('SET search_path TO {}'.format(schema))\n",
    "conn.commit()"
   ]
  },
  {
   "cell_type": "code",
   "execution_count": 3,
   "metadata": {},
   "outputs": [],
   "source": [
    "# Select data for all ICU admissions\n",
    "query = \\\n",
    "\"\"\"\n",
    "SELECT\n",
    "    i.subject_id,\n",
    "    i.hadm_id,\n",
    "    i.icustay_id,\n",
    "    p.gender,\n",
    "    p.dob,\n",
    "    ROUND((CAST(a.admittime AS date) - CAST(p.dob AS date))/365.242,2) AS age,\n",
    "    a.admittime,\n",
    "    a.dischtime,\n",
    "    i.intime,\n",
    "    i.outtime,\n",
    "    i.los,\n",
    "    a.diagnosis,\n",
    "    a.hospital_expire_flag\n",
    "FROM\n",
    "    icustays i\n",
    "    INNER JOIN patients p ON i.subject_id = p.subject_id\n",
    "    INNER JOIN admissions a ON p.subject_id = a.subject_id\n",
    "\"\"\"\n",
    "\n",
    "# Execute the query and fetch the result\n",
    "cur = conn.cursor()\n",
    "cur.execute(query)\n",
    "conn.commit()\n",
    "data = cur.fetchall()\n",
    "\n",
    "# Store the result of the query as a pandas dataframe\n",
    "labels = ['subject_id', 'hadm_id', 'icustay_id', 'gender', 'dob', 'age', 'admittime', 'dischtime', 'intime', 'outtime', 'icu_los', 'diagnosis', 'hosp_expire_flag']\n",
    "icu = pd.DataFrame(data, columns=labels)"
   ]
  },
  {
   "cell_type": "code",
   "execution_count": 4,
   "metadata": {},
   "outputs": [
    {
     "data": {
      "text/html": [
       "<div>\n",
       "<style scoped>\n",
       "    .dataframe tbody tr th:only-of-type {\n",
       "        vertical-align: middle;\n",
       "    }\n",
       "\n",
       "    .dataframe tbody tr th {\n",
       "        vertical-align: top;\n",
       "    }\n",
       "\n",
       "    .dataframe thead th {\n",
       "        text-align: right;\n",
       "    }\n",
       "</style>\n",
       "<table border=\"1\" class=\"dataframe\">\n",
       "  <thead>\n",
       "    <tr style=\"text-align: right;\">\n",
       "      <th></th>\n",
       "      <th>subject_id</th>\n",
       "      <th>hadm_id</th>\n",
       "      <th>icustay_id</th>\n",
       "      <th>gender</th>\n",
       "      <th>dob</th>\n",
       "      <th>age</th>\n",
       "      <th>admittime</th>\n",
       "      <th>dischtime</th>\n",
       "      <th>intime</th>\n",
       "      <th>outtime</th>\n",
       "      <th>icu_los</th>\n",
       "      <th>diagnosis</th>\n",
       "      <th>hosp_expire_flag</th>\n",
       "    </tr>\n",
       "  </thead>\n",
       "  <tbody>\n",
       "    <tr>\n",
       "      <th>0</th>\n",
       "      <td>2</td>\n",
       "      <td>163353</td>\n",
       "      <td>243653</td>\n",
       "      <td>M</td>\n",
       "      <td>2138-07-17</td>\n",
       "      <td>0.00</td>\n",
       "      <td>2138-07-17 19:04:00</td>\n",
       "      <td>2138-07-21 15:48:00</td>\n",
       "      <td>2138-07-17 21:20:07</td>\n",
       "      <td>2138-07-17 23:32:21</td>\n",
       "      <td>0.0918</td>\n",
       "      <td>NEWBORN</td>\n",
       "      <td>0</td>\n",
       "    </tr>\n",
       "    <tr>\n",
       "      <th>1</th>\n",
       "      <td>3</td>\n",
       "      <td>145834</td>\n",
       "      <td>211552</td>\n",
       "      <td>M</td>\n",
       "      <td>2025-04-11</td>\n",
       "      <td>76.52</td>\n",
       "      <td>2101-10-20 19:08:00</td>\n",
       "      <td>2101-10-31 13:58:00</td>\n",
       "      <td>2101-10-20 19:10:11</td>\n",
       "      <td>2101-10-26 20:43:09</td>\n",
       "      <td>6.0646</td>\n",
       "      <td>HYPOTENSION</td>\n",
       "      <td>0</td>\n",
       "    </tr>\n",
       "    <tr>\n",
       "      <th>2</th>\n",
       "      <td>4</td>\n",
       "      <td>185777</td>\n",
       "      <td>294638</td>\n",
       "      <td>F</td>\n",
       "      <td>2143-05-12</td>\n",
       "      <td>47.84</td>\n",
       "      <td>2191-03-16 00:28:00</td>\n",
       "      <td>2191-03-23 18:41:00</td>\n",
       "      <td>2191-03-16 00:29:31</td>\n",
       "      <td>2191-03-17 16:46:31</td>\n",
       "      <td>1.6785</td>\n",
       "      <td>FEVER,DEHYDRATION,FAILURE TO THRIVE</td>\n",
       "      <td>0</td>\n",
       "    </tr>\n",
       "    <tr>\n",
       "      <th>3</th>\n",
       "      <td>5</td>\n",
       "      <td>178980</td>\n",
       "      <td>214757</td>\n",
       "      <td>M</td>\n",
       "      <td>2103-02-02</td>\n",
       "      <td>0.00</td>\n",
       "      <td>2103-02-02 04:31:00</td>\n",
       "      <td>2103-02-04 12:15:00</td>\n",
       "      <td>2103-02-02 06:04:24</td>\n",
       "      <td>2103-02-02 08:06:00</td>\n",
       "      <td>0.0844</td>\n",
       "      <td>NEWBORN</td>\n",
       "      <td>0</td>\n",
       "    </tr>\n",
       "    <tr>\n",
       "      <th>4</th>\n",
       "      <td>6</td>\n",
       "      <td>107064</td>\n",
       "      <td>228232</td>\n",
       "      <td>F</td>\n",
       "      <td>2109-06-21</td>\n",
       "      <td>65.94</td>\n",
       "      <td>2175-05-30 07:15:00</td>\n",
       "      <td>2175-06-15 16:00:00</td>\n",
       "      <td>2175-05-30 21:30:54</td>\n",
       "      <td>2175-06-03 13:39:54</td>\n",
       "      <td>3.6729</td>\n",
       "      <td>CHRONIC RENAL FAILURE/SDA</td>\n",
       "      <td>0</td>\n",
       "    </tr>\n",
       "  </tbody>\n",
       "</table>\n",
       "</div>"
      ],
      "text/plain": [
       "   subject_id  hadm_id  icustay_id gender        dob    age  \\\n",
       "0           2   163353      243653      M 2138-07-17   0.00   \n",
       "1           3   145834      211552      M 2025-04-11  76.52   \n",
       "2           4   185777      294638      F 2143-05-12  47.84   \n",
       "3           5   178980      214757      M 2103-02-02   0.00   \n",
       "4           6   107064      228232      F 2109-06-21  65.94   \n",
       "\n",
       "            admittime           dischtime              intime  \\\n",
       "0 2138-07-17 19:04:00 2138-07-21 15:48:00 2138-07-17 21:20:07   \n",
       "1 2101-10-20 19:08:00 2101-10-31 13:58:00 2101-10-20 19:10:11   \n",
       "2 2191-03-16 00:28:00 2191-03-23 18:41:00 2191-03-16 00:29:31   \n",
       "3 2103-02-02 04:31:00 2103-02-04 12:15:00 2103-02-02 06:04:24   \n",
       "4 2175-05-30 07:15:00 2175-06-15 16:00:00 2175-05-30 21:30:54   \n",
       "\n",
       "              outtime  icu_los                            diagnosis  \\\n",
       "0 2138-07-17 23:32:21   0.0918                              NEWBORN   \n",
       "1 2101-10-26 20:43:09   6.0646                          HYPOTENSION   \n",
       "2 2191-03-17 16:46:31   1.6785  FEVER,DEHYDRATION,FAILURE TO THRIVE   \n",
       "3 2103-02-02 08:06:00   0.0844                              NEWBORN   \n",
       "4 2175-06-03 13:39:54   3.6729            CHRONIC RENAL FAILURE/SDA   \n",
       "\n",
       "   hosp_expire_flag  \n",
       "0                 0  \n",
       "1                 0  \n",
       "2                 0  \n",
       "3                 0  \n",
       "4                 0  "
      ]
     },
     "execution_count": 4,
     "metadata": {},
     "output_type": "execute_result"
    }
   ],
   "source": [
    "# Show some sample data\n",
    "icu.head()"
   ]
  },
  {
   "cell_type": "code",
   "execution_count": 5,
   "metadata": {},
   "outputs": [
    {
     "name": "stdout",
     "output_type": "stream",
     "text": [
      "No. of subject_id: 46476\n",
      "No. of hadm_id: 57786\n",
      "No. of icustay_id: 61532\n"
     ]
    }
   ],
   "source": [
    "# Print some statistics about the patient population\n",
    "icu.head()\n",
    "print('No. of subject_id: {}'.format(len(np.unique(icu['subject_id']))))\n",
    "print('No. of hadm_id: {}'.format(len(np.unique(icu['hadm_id']))))\n",
    "print('No. of icustay_id: {}'.format(len(np.unique(icu['icustay_id']))))"
   ]
  },
  {
   "cell_type": "code",
   "execution_count": 6,
   "metadata": {},
   "outputs": [
    {
     "name": "stdout",
     "output_type": "stream",
     "text": [
      "ICU stays with patients over 18: 107843\n"
     ]
    }
   ],
   "source": [
    "# Remove any patients under 18 years old\n",
    "adult_icu = icu[icu['age']>=18]\n",
    "print('ICU stays with patients over 18: {}'.format(len(adult_icu)))"
   ]
  },
  {
   "cell_type": "code",
   "execution_count": 7,
   "metadata": {},
   "outputs": [
    {
     "name": "stdout",
     "output_type": "stream",
     "text": [
      "ICU stays that lasted under 24 hours: 92015\n"
     ]
    }
   ],
   "source": [
    "# Remove any patients with ICU stays under 24 hours\n",
    "adult_24h_icu = adult_icu[adult_icu['icu_los']>=1]\n",
    "print('ICU stays that lasted under 24 hours: {}'.format(len(adult_24h_icu)))"
   ]
  },
  {
   "cell_type": "code",
   "execution_count": 8,
   "metadata": {},
   "outputs": [
    {
     "name": "stdout",
     "output_type": "stream",
     "text": [
      "Adults admitted to ICU for the first time: 33562\n"
     ]
    }
   ],
   "source": [
    "# Select first ICU admission for each patient\n",
    "icu_sorted = adult_24h_icu.sort_values(by=['subject_id', 'intime']) # sort patients by subject ID and ICU admission time\n",
    "adult_24h_first_icu = icu_sorted.groupby('subject_id', as_index=False).first() # take the first ICU admission for each subject\n",
    "print('Adults admitted to ICU for the first time: {}'.format(len(adult_24h_first_icu)))"
   ]
  },
  {
   "cell_type": "code",
   "execution_count": 9,
   "metadata": {},
   "outputs": [
    {
     "data": {
      "text/html": [
       "<div>\n",
       "<style scoped>\n",
       "    .dataframe tbody tr th:only-of-type {\n",
       "        vertical-align: middle;\n",
       "    }\n",
       "\n",
       "    .dataframe tbody tr th {\n",
       "        vertical-align: top;\n",
       "    }\n",
       "\n",
       "    .dataframe thead th {\n",
       "        text-align: right;\n",
       "    }\n",
       "</style>\n",
       "<table border=\"1\" class=\"dataframe\">\n",
       "  <thead>\n",
       "    <tr style=\"text-align: right;\">\n",
       "      <th></th>\n",
       "      <th>subject_id</th>\n",
       "      <th>hadm_id</th>\n",
       "      <th>icustay_id</th>\n",
       "      <th>gender</th>\n",
       "      <th>dob</th>\n",
       "      <th>age</th>\n",
       "      <th>admittime</th>\n",
       "      <th>dischtime</th>\n",
       "      <th>intime</th>\n",
       "      <th>outtime</th>\n",
       "      <th>icu_los</th>\n",
       "      <th>diagnosis</th>\n",
       "      <th>hosp_expire_flag</th>\n",
       "    </tr>\n",
       "  </thead>\n",
       "  <tbody>\n",
       "    <tr>\n",
       "      <th>0</th>\n",
       "      <td>3</td>\n",
       "      <td>145834</td>\n",
       "      <td>211552</td>\n",
       "      <td>M</td>\n",
       "      <td>2025-04-11</td>\n",
       "      <td>76.52</td>\n",
       "      <td>2101-10-20 19:08:00</td>\n",
       "      <td>2101-10-31 13:58:00</td>\n",
       "      <td>2101-10-20 19:10:11</td>\n",
       "      <td>2101-10-26 20:43:09</td>\n",
       "      <td>6.0646</td>\n",
       "      <td>HYPOTENSION</td>\n",
       "      <td>0</td>\n",
       "    </tr>\n",
       "    <tr>\n",
       "      <th>1</th>\n",
       "      <td>4</td>\n",
       "      <td>185777</td>\n",
       "      <td>294638</td>\n",
       "      <td>F</td>\n",
       "      <td>2143-05-12</td>\n",
       "      <td>47.84</td>\n",
       "      <td>2191-03-16 00:28:00</td>\n",
       "      <td>2191-03-23 18:41:00</td>\n",
       "      <td>2191-03-16 00:29:31</td>\n",
       "      <td>2191-03-17 16:46:31</td>\n",
       "      <td>1.6785</td>\n",
       "      <td>FEVER,DEHYDRATION,FAILURE TO THRIVE</td>\n",
       "      <td>0</td>\n",
       "    </tr>\n",
       "    <tr>\n",
       "      <th>2</th>\n",
       "      <td>6</td>\n",
       "      <td>107064</td>\n",
       "      <td>228232</td>\n",
       "      <td>F</td>\n",
       "      <td>2109-06-21</td>\n",
       "      <td>65.94</td>\n",
       "      <td>2175-05-30 07:15:00</td>\n",
       "      <td>2175-06-15 16:00:00</td>\n",
       "      <td>2175-05-30 21:30:54</td>\n",
       "      <td>2175-06-03 13:39:54</td>\n",
       "      <td>3.6729</td>\n",
       "      <td>CHRONIC RENAL FAILURE/SDA</td>\n",
       "      <td>0</td>\n",
       "    </tr>\n",
       "    <tr>\n",
       "      <th>3</th>\n",
       "      <td>9</td>\n",
       "      <td>150750</td>\n",
       "      <td>220597</td>\n",
       "      <td>M</td>\n",
       "      <td>2108-01-26</td>\n",
       "      <td>41.79</td>\n",
       "      <td>2149-11-09 13:06:00</td>\n",
       "      <td>2149-11-14 10:15:00</td>\n",
       "      <td>2149-11-09 13:07:02</td>\n",
       "      <td>2149-11-14 20:52:14</td>\n",
       "      <td>5.3231</td>\n",
       "      <td>HEMORRHAGIC CVA</td>\n",
       "      <td>1</td>\n",
       "    </tr>\n",
       "    <tr>\n",
       "      <th>4</th>\n",
       "      <td>11</td>\n",
       "      <td>194540</td>\n",
       "      <td>229441</td>\n",
       "      <td>F</td>\n",
       "      <td>2128-02-22</td>\n",
       "      <td>50.15</td>\n",
       "      <td>2178-04-16 06:18:00</td>\n",
       "      <td>2178-05-11 19:00:00</td>\n",
       "      <td>2178-04-16 06:19:32</td>\n",
       "      <td>2178-04-17 20:21:05</td>\n",
       "      <td>1.5844</td>\n",
       "      <td>BRAIN MASS</td>\n",
       "      <td>0</td>\n",
       "    </tr>\n",
       "  </tbody>\n",
       "</table>\n",
       "</div>"
      ],
      "text/plain": [
       "   subject_id  hadm_id  icustay_id gender        dob    age  \\\n",
       "0           3   145834      211552      M 2025-04-11  76.52   \n",
       "1           4   185777      294638      F 2143-05-12  47.84   \n",
       "2           6   107064      228232      F 2109-06-21  65.94   \n",
       "3           9   150750      220597      M 2108-01-26  41.79   \n",
       "4          11   194540      229441      F 2128-02-22  50.15   \n",
       "\n",
       "            admittime           dischtime              intime  \\\n",
       "0 2101-10-20 19:08:00 2101-10-31 13:58:00 2101-10-20 19:10:11   \n",
       "1 2191-03-16 00:28:00 2191-03-23 18:41:00 2191-03-16 00:29:31   \n",
       "2 2175-05-30 07:15:00 2175-06-15 16:00:00 2175-05-30 21:30:54   \n",
       "3 2149-11-09 13:06:00 2149-11-14 10:15:00 2149-11-09 13:07:02   \n",
       "4 2178-04-16 06:18:00 2178-05-11 19:00:00 2178-04-16 06:19:32   \n",
       "\n",
       "              outtime  icu_los                            diagnosis  \\\n",
       "0 2101-10-26 20:43:09   6.0646                          HYPOTENSION   \n",
       "1 2191-03-17 16:46:31   1.6785  FEVER,DEHYDRATION,FAILURE TO THRIVE   \n",
       "2 2175-06-03 13:39:54   3.6729            CHRONIC RENAL FAILURE/SDA   \n",
       "3 2149-11-14 20:52:14   5.3231                      HEMORRHAGIC CVA   \n",
       "4 2178-04-17 20:21:05   1.5844                           BRAIN MASS   \n",
       "\n",
       "   hosp_expire_flag  \n",
       "0                 0  \n",
       "1                 0  \n",
       "2                 0  \n",
       "3                 1  \n",
       "4                 0  "
      ]
     },
     "execution_count": 9,
     "metadata": {},
     "output_type": "execute_result"
    }
   ],
   "source": [
    "# Show some sample data for adult first ICU admission\n",
    "adult_24h_first_icu.head()"
   ]
  },
  {
   "cell_type": "code",
   "execution_count": 10,
   "metadata": {},
   "outputs": [
    {
     "data": {
      "image/png": "[encoded data removed]",
      "text/plain": [
       "<Figure size 1080x864 with 4 Axes>"
      ]
     },
     "metadata": {
      "needs_background": "light"
     },
     "output_type": "display_data"
    }
   ],
   "source": [
    "# Visualise mortality rate,length of ICU stay, age and gender\n",
    "fig, axs = plt.subplots(2, 2, figsize=(15,12))\n",
    "fig.suptitle('Patients >= 18 Years Old on their First Admission to ICU', weight='semibold', fontsize=14)\n",
    "\n",
    "# Plot the mortality\n",
    "axs[0,0].bar(x=['Survivals','Deaths'], height=[len(adult_24h_first_icu)-sum(adult_24h_first_icu['hosp_expire_flag']),sum(adult_24h_first_icu['hosp_expire_flag'])], color=['g','r'])\n",
    "axs[0,0].set_title('Mortality = {:.2f}%'.format(100*sum(adult_24h_first_icu['hosp_expire_flag'])/len(adult_24h_first_icu)), style='italic')\n",
    "axs[0,0].set_ylabel('No. of patients')\n",
    "\n",
    "# Plot the length of stay\n",
    "axs[0,1].hist(x=adult_24h_first_icu['icu_los'], bins=250, color='maroon')\n",
    "axs[0,1].set_title('Length of Stay (71 patients with stays >50 days excluded from plot)', style='italic')\n",
    "axs[0,1].set_xlim([0,50])\n",
    "axs[0,1].set_xticks(range(0,51,5))\n",
    "axs[0,1].set_xlabel('No. of days')\n",
    "axs[0,1].set_ylabel('No. of patients')\n",
    "\n",
    "# Plot the patient ages\n",
    "axs[1,0].hist(x=adult_24h_first_icu['age'].astype('int64'), bins=100, color='gold')\n",
    "axs[1,0].set_title('Patient Ages', style='italic')\n",
    "axs[1,0].set_xlim([0,100])\n",
    "axs[1,0].set_xlabel('Age in years')\n",
    "axs[1,0].set_ylabel('No. of patients')\n",
    "\n",
    "# Plot the gender breakdown\n",
    "axs[1,1].bar(x=['Male','Female'], height=[sum(adult_24h_first_icu['gender']=='M'),sum(adult_24h_first_icu['gender']=='F')], color=['darkblue','crimson'])\n",
    "axs[1,1].set_title('Gender Breakdown ({:.1f}% male, {:.1f}% female)'.format(100*sum(adult_24h_first_icu['gender']=='M')/len(adult_24h_first_icu), 100*sum(adult_24h_first_icu['gender']=='F')/len(adult_24h_first_icu)), style='italic')\n",
    "axs[1,1].set_ylabel('No. of patients');"
   ]
  },
  {
   "cell_type": "code",
   "execution_count": 12,
   "metadata": {},
   "outputs": [
    {
     "name": "stdout",
     "output_type": "stream",
     "text": [
      "Saved!\n"
     ]
    }
   ],
   "source": [
    "# Sort patients by subject_id, then hadm_id and icustay_id if needed\n",
    "adult_24h_first_icu.sort_values(by=['subject_id', 'hadm_id', 'icustay_id'])\n",
    "\n",
    "# Save to patients.npy\n",
    "if not os.path.exists('./data'):\n",
    "    os.makedirs('./data')\n",
    "\n",
    "tosave = {'patients': adult_24h_first_icu}\n",
    "np.save('data/patients.npy',tosave)\n",
    "print(\"Saved!\")"
   ]
  },
  {
   "cell_type": "code",
   "execution_count": null,
   "metadata": {},
   "outputs": [],
   "source": []
  }
 ],
 "metadata": {
  "kernelspec": {
   "display_name": "Python 3",
   "language": "python",
   "name": "python3"
  },
  "language_info": {
   "codemirror_mode": {
    "name": "ipython",
    "version": 3
   },
   "file_extension": ".py",
   "mimetype": "text/x-python",
   "name": "python",
   "nbconvert_exporter": "python",
   "pygments_lexer": "ipython3",
   "version": "3.7.3"
  }
 },
 "nbformat": 4,
 "nbformat_minor": 4
}
